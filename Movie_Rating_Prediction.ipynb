{
  "nbformat": 4,
  "nbformat_minor": 0,
  "metadata": {
    "colab": {
      "provenance": [],
      "authorship_tag": "ABX9TyOJ6YbxYHzS85at1eXnfC0E",
      "include_colab_link": true
    },
    "kernelspec": {
      "name": "python3",
      "display_name": "Python 3"
    },
    "language_info": {
      "name": "python"
    }
  },
  "cells": [
    {
      "cell_type": "markdown",
      "metadata": {
        "id": "view-in-github",
        "colab_type": "text"
      },
      "source": [
        "<a href=\"https://colab.research.google.com/github/RajeswariVelakaturi/CODSOFT/blob/main/Movie_Rating_Prediction.ipynb\" target=\"_parent\"><img src=\"https://colab.research.google.com/assets/colab-badge.svg\" alt=\"Open In Colab\"/></a>"
      ]
    },
    {
      "cell_type": "code",
      "source": [
        "import pandas as pd\n",
        "\n",
        "file_path = '/content/movies.csv'\n",
        "\n",
        "# List of possible encodings\n",
        "encodings = ['latin1', 'cp1252', 'utf-8-sig']\n",
        "\n",
        "# Try reading the file with different encodings\n",
        "for encoding in encodings:\n",
        "    try:\n",
        "        df = pd.read_csv(file_path, encoding=encoding)\n",
        "        print(f\"Successfully read the file with encoding: {encoding}\")\n",
        "        break\n",
        "    except UnicodeDecodeError:\n",
        "        print(f\"Failed to read with encoding: {encoding}\")\n"
      ],
      "metadata": {
        "colab": {
          "base_uri": "https://localhost:8080/"
        },
        "id": "FZKdxaF0ZD9d",
        "outputId": "631b6202-37e2-440a-fbb4-a74b0548870a"
      },
      "execution_count": null,
      "outputs": [
        {
          "output_type": "stream",
          "name": "stdout",
          "text": [
            "Successfully read the file with encoding: latin1\n"
          ]
        }
      ]
    },
    {
      "cell_type": "code",
      "source": [
        "import pandas as pd\n",
        "\n",
        "file_path = '/content/movies.csv'\n",
        "\n",
        "# List of possible encodings\n",
        "encodings = ['latin1', 'cp1252', 'utf-8-sig']\n",
        "\n",
        "# Try reading the file with different encodings\n",
        "for encoding in encodings:\n",
        "    try:\n",
        "        df = pd.read_csv(file_path, encoding=encoding)\n",
        "        print(f\"Successfully read the file with encoding: {encoding}\")\n",
        "        break\n",
        "    except UnicodeDecodeError:\n",
        "        print(f\"Failed to read with encoding: {encoding}\")\n",
        "\n",
        "        print(df['Actor 1'])\n"
      ],
      "metadata": {
        "colab": {
          "base_uri": "https://localhost:8080/"
        },
        "id": "RS998ltm03-I",
        "outputId": "fb0fa142-adc1-4b73-8be8-8a130c77dcfe"
      },
      "execution_count": 9,
      "outputs": [
        {
          "output_type": "stream",
          "name": "stdout",
          "text": [
            "Successfully read the file with encoding: latin1\n"
          ]
        }
      ]
    },
    {
      "cell_type": "code",
      "source": [
        "print(df['Actor 1'])"
      ],
      "metadata": {
        "colab": {
          "base_uri": "https://localhost:8080/"
        },
        "id": "hrm02Mv51FxV",
        "outputId": "49e0d8be-78f8-4662-b409-41eeb2e04fa1"
      },
      "execution_count": 10,
      "outputs": [
        {
          "output_type": "stream",
          "name": "stdout",
          "text": [
            "0                Manmauji\n",
            "1            Rasika Dugal\n",
            "2            Sayani Gupta\n",
            "3                 Prateik\n",
            "4            Rajat Kapoor\n",
            "               ...       \n",
            "15504    Naseeruddin Shah\n",
            "15505        Akshay Kumar\n",
            "15506     Sangeeta Tiwari\n",
            "15507                 NaN\n",
            "15508          Dharmendra\n",
            "Name: Actor 1, Length: 15509, dtype: object\n"
          ]
        }
      ]
    },
    {
      "cell_type": "code",
      "source": [
        "print(df['Director'])"
      ],
      "metadata": {
        "colab": {
          "base_uri": "https://localhost:8080/"
        },
        "id": "xDRcMrpP1MlQ",
        "outputId": "b6965c7e-b618-4d93-e4df-ae8260e0abec"
      },
      "execution_count": 12,
      "outputs": [
        {
          "output_type": "stream",
          "name": "stdout",
          "text": [
            "0             J.S. Randhawa\n",
            "1             Gaurav Bakshi\n",
            "2        Soumyajit Majumdar\n",
            "3                Ovais Khan\n",
            "4              Amol Palekar\n",
            "                ...        \n",
            "15504         Mahendra Shah\n",
            "15505            Kuku Kohli\n",
            "15506            Kiran Thej\n",
            "15507                   NaN\n",
            "15508          K.C. Bokadia\n",
            "Name: Director, Length: 15509, dtype: object\n"
          ]
        }
      ]
    },
    {
      "cell_type": "code",
      "source": [
        "# Print a specific row (e.g., row at index 5)\n",
        "print(df.iloc[5])"
      ],
      "metadata": {
        "colab": {
          "base_uri": "https://localhost:8080/"
        },
        "id": "pdGJ3jUM1hVC",
        "outputId": "f581418e-32f8-4dbf-ddc8-8b10eb0acb41"
      },
      "execution_count": 13,
      "outputs": [
        {
          "output_type": "stream",
          "name": "stdout",
          "text": [
            "Name          ...Aur Pyaar Ho Gaya\n",
            "Year                       -1997.0\n",
            "Duration                   147 min\n",
            "Genre       Comedy, Drama, Musical\n",
            "Rating                         4.7\n",
            "Votes                          827\n",
            "Director              Rahul Rawail\n",
            "Actor 1                 Bobby Deol\n",
            "Actor 2     Aishwarya Rai Bachchan\n",
            "Actor 3              Shammi Kapoor\n",
            "Name: 5, dtype: object\n"
          ]
        }
      ]
    },
    {
      "cell_type": "code",
      "source": [
        "# Select two rows to compare (replace 0 and 1 with the indices of the rows you want to compare)\n",
        "row1 = df.iloc[299]\n",
        "row2 = df.iloc[2864]\n",
        "\n",
        "# Compare the rows\n",
        "comparison = row1 == row2\n",
        "\n",
        "print(\"Comparison Result:\")\n",
        "print(comparison)"
      ],
      "metadata": {
        "colab": {
          "base_uri": "https://localhost:8080/"
        },
        "id": "FiGNH-l31tl3",
        "outputId": "f120624b-1c0a-4211-c61d-758e0e28d7ea"
      },
      "execution_count": 14,
      "outputs": [
        {
          "output_type": "stream",
          "name": "stdout",
          "text": [
            "Comparison Result:\n",
            "Name        False\n",
            "Year        False\n",
            "Duration    False\n",
            "Genre       False\n",
            "Rating      False\n",
            "Votes       False\n",
            "Director    False\n",
            "Actor 1     False\n",
            "Actor 2     False\n",
            "Actor 3     False\n",
            "dtype: bool\n"
          ]
        }
      ]
    },
    {
      "cell_type": "code",
      "source": [
        "# Select two columns to compare (replace 'column1' and 'column2' with your actual column names)\n",
        "column1 = df['Genre']\n",
        "column2 = df['Votes']\n",
        "\n",
        "# Compare the columns\n",
        "comparison = column1 == column2\n",
        "\n",
        "print(\"Comparison Result:\")\n",
        "print(comparison)"
      ],
      "metadata": {
        "colab": {
          "base_uri": "https://localhost:8080/"
        },
        "id": "GDqWPGnh141n",
        "outputId": "cc90ec62-2e32-46f3-a767-f25c2eb9528e"
      },
      "execution_count": 17,
      "outputs": [
        {
          "output_type": "stream",
          "name": "stdout",
          "text": [
            "Comparison Result:\n",
            "0        False\n",
            "1        False\n",
            "2        False\n",
            "3        False\n",
            "4        False\n",
            "         ...  \n",
            "15504    False\n",
            "15505    False\n",
            "15506    False\n",
            "15507    False\n",
            "15508    False\n",
            "Length: 15509, dtype: bool\n"
          ]
        }
      ]
    },
    {
      "cell_type": "code",
      "source": [
        "# Select two columns to compare (replace 'column1' and 'column2' with your actual column names)\n",
        "column1 = df['Actor 1']\n",
        "column2 = df['Actor 2']\n",
        "\n",
        "# Compare the columns\n",
        "comparison = column1 == column2\n",
        "\n",
        "print(\"Comparison Result:\")\n",
        "print(comparison)"
      ],
      "metadata": {
        "colab": {
          "base_uri": "https://localhost:8080/"
        },
        "id": "P1rcRV1A2Cvc",
        "outputId": "b06a95e7-1fb1-49ce-c7fe-631bc2e516d1"
      },
      "execution_count": 18,
      "outputs": [
        {
          "output_type": "stream",
          "name": "stdout",
          "text": [
            "Comparison Result:\n",
            "0        False\n",
            "1        False\n",
            "2        False\n",
            "3        False\n",
            "4        False\n",
            "         ...  \n",
            "15504    False\n",
            "15505    False\n",
            "15506    False\n",
            "15507    False\n",
            "15508    False\n",
            "Length: 15509, dtype: bool\n"
          ]
        }
      ]
    },
    {
      "cell_type": "code",
      "source": [
        "equal_rows = row1.equals(row2)\n",
        "equal_columns = column1.equals(column2)\n",
        "\n",
        "print(\"Rows Equal:\", equal_rows)\n",
        "print(\"Columns Equal:\", equal_columns)"
      ],
      "metadata": {
        "colab": {
          "base_uri": "https://localhost:8080/"
        },
        "id": "cJbaWRtm2NkZ",
        "outputId": "50908bae-44cd-48f8-94a1-ed60707b4fd1"
      },
      "execution_count": 19,
      "outputs": [
        {
          "output_type": "stream",
          "name": "stdout",
          "text": [
            "Rows Equal: False\n",
            "Columns Equal: False\n"
          ]
        }
      ]
    },
    {
      "cell_type": "code",
      "source": [
        "differences_rows = row1 != row2\n",
        "differences_columns = column1 != column2\n",
        "\n",
        "print(\"Row Differences:\")\n",
        "print(differences_rows)\n",
        "\n",
        "print(\"Column Differences:\")\n",
        "print(differences_columns)"
      ],
      "metadata": {
        "colab": {
          "base_uri": "https://localhost:8080/"
        },
        "id": "4V4v3MZH2RwX",
        "outputId": "56f31758-adda-4d7e-e3f4-1ae60aedd944"
      },
      "execution_count": 20,
      "outputs": [
        {
          "output_type": "stream",
          "name": "stdout",
          "text": [
            "Row Differences:\n",
            "Name        True\n",
            "Year        True\n",
            "Duration    True\n",
            "Genre       True\n",
            "Rating      True\n",
            "Votes       True\n",
            "Director    True\n",
            "Actor 1     True\n",
            "Actor 2     True\n",
            "Actor 3     True\n",
            "dtype: bool\n",
            "Column Differences:\n",
            "0        True\n",
            "1        True\n",
            "2        True\n",
            "3        True\n",
            "4        True\n",
            "         ... \n",
            "15504    True\n",
            "15505    True\n",
            "15506    True\n",
            "15507    True\n",
            "15508    True\n",
            "Length: 15509, dtype: bool\n"
          ]
        }
      ]
    },
    {
      "cell_type": "code",
      "source": [
        "value_comparison = row1['Actor 1'] == row2['Actor 2']\n",
        "print(\"Value Comparison:\", value_comparison)"
      ],
      "metadata": {
        "colab": {
          "base_uri": "https://localhost:8080/"
        },
        "id": "6fGn0hEu2Wg_",
        "outputId": "32e8630b-7dc8-4b6f-bc12-44c64da6a091"
      },
      "execution_count": 22,
      "outputs": [
        {
          "output_type": "stream",
          "name": "stdout",
          "text": [
            "Value Comparison: False\n"
          ]
        }
      ]
    },
    {
      "cell_type": "code",
      "source": [
        "# Select two rows to compare (replace 35 and 467 with your indices)\n",
        "row1 = df.iloc[35]\n",
        "row2 = df.iloc[467]\n",
        "\n",
        "# Compare the rows\n",
        "comparison = row1 == row2\n",
        "\n",
        "# Convert boolean comparison to string for plotting\n",
        "comparison_str = comparison.map({True: 'Match', False: 'No Match'})\n",
        "\n",
        "# Plot the comparison\n",
        "plt.figure(figsize=(6, 4))\n",
        "comparison_str.value_counts().plot(kind='bar', color=['blue', 'red'])\n",
        "plt.title('Comparison of Two Rows')\n",
        "plt.xlabel('Match Status')\n",
        "plt.ylabel('Count')\n",
        "plt.xticks(rotation=0)  # Rotate labels for better readability if needed\n",
        "plt.show()"
      ],
      "metadata": {
        "colab": {
          "base_uri": "https://localhost:8080/",
          "height": 410
        },
        "id": "HJhOczRK2ouV",
        "outputId": "dce0f82b-b43f-4fbf-f31b-60468e746496"
      },
      "execution_count": 25,
      "outputs": [
        {
          "output_type": "display_data",
          "data": {
            "text/plain": [
              "<Figure size 600x400 with 1 Axes>"
            ],
            "image/png": "[encoded data removed]"
          },
          "metadata": {}
        }
      ]
    },
    {
      "cell_type": "code",
      "source": [
        "import chardet\n",
        "\n",
        "# Detect the encoding of the file\n",
        "with open(file_path, 'rb') as f:\n",
        "    result = chardet.detect(f.read())\n",
        "    encoding = result['encoding']\n",
        "\n",
        "print(f\"Detected encoding: {encoding}\")\n",
        "\n",
        "# Load the dataset with the detected encoding\n",
        "df = pd.read_csv(file_path, encoding=encoding)\n",
        "\n",
        "# Display the first few rows of the dataset\n",
        "print(df.head(100))\n"
      ],
      "metadata": {
        "colab": {
          "base_uri": "https://localhost:8080/"
        },
        "id": "-3rCKOmvZlWU",
        "outputId": "319c074f-6b7a-4c26-8401-d3ddef382ce5"
      },
      "execution_count": null,
      "outputs": [
        {
          "output_type": "stream",
          "name": "stdout",
          "text": [
            "Detected encoding: ISO-8859-1\n",
            "                                  Name    Year Duration  \\\n",
            "0                                          NaN      NaN   \n",
            "1   #Gadhvi (He thought he was Gandhi) -2019.0  109 min   \n",
            "2                          #Homecoming -2021.0   90 min   \n",
            "3                              #Yaaram -2019.0  110 min   \n",
            "4                    ...And Once Again -2010.0  105 min   \n",
            "..                                 ...     ...      ...   \n",
            "95                           417 Miles -2016.0   75 min   \n",
            "96                             42 Kms. -2009.0      NaN   \n",
            "97               498A-The Wedding Gift -2012.0  113 min   \n",
            "98                    4pm on the Court -2011.0  115 min   \n",
            "99              5 Ghantey Mien 5 Crore -2012.0  111 min   \n",
            "\n",
            "                     Genre  Rating Votes            Director  \\\n",
            "0                    Drama     NaN   NaN       J.S. Randhawa   \n",
            "1                    Drama     7.0     8       Gaurav Bakshi   \n",
            "2           Drama, Musical     NaN   NaN  Soumyajit Majumdar   \n",
            "3          Comedy, Romance     4.4    35          Ovais Khan   \n",
            "4                    Drama     NaN   NaN        Amol Palekar   \n",
            "..                     ...     ...   ...                 ...   \n",
            "95                   Drama     4.8     9         Mainak Dhar   \n",
            "96            Drama, Sport     3.9    14      Nisha Chainani   \n",
            "97  Drama, Family, Musical     7.8    21       Suhaib Ilyasi   \n",
            "98                   Sport     NaN   NaN       Shine Krishna   \n",
            "99                Thriller     5.7    75         Faisal Saif   \n",
            "\n",
            "              Actor 1             Actor 2              Actor 3  \n",
            "0            Manmauji              Birbal      Rajendra Bhatia  \n",
            "1        Rasika Dugal      Vivek Ghamande        Arvind Jangid  \n",
            "2        Sayani Gupta   Plabita Borthakur           Roy Angana  \n",
            "3             Prateik          Ishita Raj      Siddhant Kapoor  \n",
            "4        Rajat Kapoor  Rituparna Sengupta          Antara Mali  \n",
            "..                ...                 ...                  ...  \n",
            "95  Marilia Colturato         Kyara Jacob  Kyara Ralella Jacob  \n",
            "96       Mandira Bedi       Bikram Saluja       Sammir Dattani  \n",
            "97     Srishti Gautam        Farida Jalal       Supriya Karnik  \n",
            "98      Ashish Bhatia      Naveen Kaushik         Vinay Sharma  \n",
            "99     Nassar Abdulla          Shawar Ali          Rashid Khan  \n",
            "\n",
            "[100 rows x 10 columns]\n"
          ]
        }
      ]
    },
    {
      "cell_type": "code",
      "source": [
        "import pandas as pd\n",
        "import chardet\n",
        "from IPython.display import display\n",
        "\n",
        "# File path to your dataset\n",
        "file_path = '/content/movies.csv'  # Replace with your actual file path\n",
        "\n",
        "# Detect the encoding of the file\n",
        "with open(file_path, 'rb') as f:\n",
        "    result = chardet.detect(f.read())\n",
        "    encoding = result['encoding']\n",
        "\n",
        "print(f\"Detected encoding: {encoding}\")\n",
        "\n",
        "# Load the dataset with the detected encoding\n",
        "df = pd.read_csv(file_path, encoding=encoding)\n",
        "\n",
        "# Display the first few rows of the dataset in a table\n",
        "display(df.head(100))  # Adjust the number if needed\n"
      ],
      "metadata": {
        "colab": {
          "base_uri": "https://localhost:8080/",
          "height": 562
        },
        "id": "8fwR35Mb4YYO",
        "outputId": "47a35f6a-dad8-447c-af8e-68634d6b423d"
      },
      "execution_count": 31,
      "outputs": [
        {
          "output_type": "stream",
          "name": "stdout",
          "text": [
            "Detected encoding: ISO-8859-1\n"
          ]
        },
        {
          "output_type": "display_data",
          "data": {
            "text/plain": [
              "                                  Name    Year Duration  \\\n",
              "0                                          NaN      NaN   \n",
              "1   #Gadhvi (He thought he was Gandhi) -2019.0  109 min   \n",
              "2                          #Homecoming -2021.0   90 min   \n",
              "3                              #Yaaram -2019.0  110 min   \n",
              "4                    ...And Once Again -2010.0  105 min   \n",
              "..                                 ...     ...      ...   \n",
              "95                           417 Miles -2016.0   75 min   \n",
              "96                             42 Kms. -2009.0      NaN   \n",
              "97               498A-The Wedding Gift -2012.0  113 min   \n",
              "98                    4pm on the Court -2011.0  115 min   \n",
              "99              5 Ghantey Mien 5 Crore -2012.0  111 min   \n",
              "\n",
              "                     Genre  Rating Votes            Director  \\\n",
              "0                    Drama     NaN   NaN       J.S. Randhawa   \n",
              "1                    Drama     7.0     8       Gaurav Bakshi   \n",
              "2           Drama, Musical     NaN   NaN  Soumyajit Majumdar   \n",
              "3          Comedy, Romance     4.4    35          Ovais Khan   \n",
              "4                    Drama     NaN   NaN        Amol Palekar   \n",
              "..                     ...     ...   ...                 ...   \n",
              "95                   Drama     4.8     9         Mainak Dhar   \n",
              "96            Drama, Sport     3.9    14      Nisha Chainani   \n",
              "97  Drama, Family, Musical     7.8    21       Suhaib Ilyasi   \n",
              "98                   Sport     NaN   NaN       Shine Krishna   \n",
              "99                Thriller     5.7    75         Faisal Saif   \n",
              "\n",
              "              Actor 1             Actor 2              Actor 3  \n",
              "0            Manmauji              Birbal      Rajendra Bhatia  \n",
              "1        Rasika Dugal      Vivek Ghamande        Arvind Jangid  \n",
              "2        Sayani Gupta   Plabita Borthakur           Roy Angana  \n",
              "3             Prateik          Ishita Raj      Siddhant Kapoor  \n",
              "4        Rajat Kapoor  Rituparna Sengupta          Antara Mali  \n",
              "..                ...                 ...                  ...  \n",
              "95  Marilia Colturato         Kyara Jacob  Kyara Ralella Jacob  \n",
              "96       Mandira Bedi       Bikram Saluja       Sammir Dattani  \n",
              "97     Srishti Gautam        Farida Jalal       Supriya Karnik  \n",
              "98      Ashish Bhatia      Naveen Kaushik         Vinay Sharma  \n",
              "99     Nassar Abdulla          Shawar Ali          Rashid Khan  \n",
              "\n",
              "[100 rows x 10 columns]"
            ],
            "text/html": [
              "\n",
              "  <div id=\"df-dbd0bc45-a49c-404e-8fa5-2a6ff6a0c1f1\" class=\"colab-df-container\">\n",
              "    <div>\n",
              "<style scoped>\n",
              "    .dataframe tbody tr th:only-of-type {\n",
              "        vertical-align: middle;\n",
              "    }\n",
              "\n",
              "    .dataframe tbody tr th {\n",
              "        vertical-align: top;\n",
              "    }\n",
              "\n",
              "    .dataframe thead th {\n",
              "        text-align: right;\n",
              "    }\n",
              "</style>\n",
              "<table border=\"1\" class=\"dataframe\">\n",
              "  <thead>\n",
              "    <tr style=\"text-align: right;\">\n",
              "      <th></th>\n",
              "      <th>Name</th>\n",
              "      <th>Year</th>\n",
              "      <th>Duration</th>\n",
              "      <th>Genre</th>\n",
              "      <th>Rating</th>\n",
              "      <th>Votes</th>\n",
              "      <th>Director</th>\n",
              "      <th>Actor 1</th>\n",
              "      <th>Actor 2</th>\n",
              "      <th>Actor 3</th>\n",
              "    </tr>\n",
              "  </thead>\n",
              "  <tbody>\n",
              "    <tr>\n",
              "      <th>0</th>\n",
              "      <td></td>\n",
              "      <td>NaN</td>\n",
              "      <td>NaN</td>\n",
              "      <td>Drama</td>\n",
              "      <td>NaN</td>\n",
              "      <td>NaN</td>\n",
              "      <td>J.S. Randhawa</td>\n",
              "      <td>Manmauji</td>\n",
              "      <td>Birbal</td>\n",
              "      <td>Rajendra Bhatia</td>\n",
              "    </tr>\n",
              "    <tr>\n",
              "      <th>1</th>\n",
              "      <td>#Gadhvi (He thought he was Gandhi)</td>\n",
              "      <td>-2019.0</td>\n",
              "      <td>109 min</td>\n",
              "      <td>Drama</td>\n",
              "      <td>7.0</td>\n",
              "      <td>8</td>\n",
              "      <td>Gaurav Bakshi</td>\n",
              "      <td>Rasika Dugal</td>\n",
              "      <td>Vivek Ghamande</td>\n",
              "      <td>Arvind Jangid</td>\n",
              "    </tr>\n",
              "    <tr>\n",
              "      <th>2</th>\n",
              "      <td>#Homecoming</td>\n",
              "      <td>-2021.0</td>\n",
              "      <td>90 min</td>\n",
              "      <td>Drama, Musical</td>\n",
              "      <td>NaN</td>\n",
              "      <td>NaN</td>\n",
              "      <td>Soumyajit Majumdar</td>\n",
              "      <td>Sayani Gupta</td>\n",
              "      <td>Plabita Borthakur</td>\n",
              "      <td>Roy Angana</td>\n",
              "    </tr>\n",
              "    <tr>\n",
              "      <th>3</th>\n",
              "      <td>#Yaaram</td>\n",
              "      <td>-2019.0</td>\n",
              "      <td>110 min</td>\n",
              "      <td>Comedy, Romance</td>\n",
              "      <td>4.4</td>\n",
              "      <td>35</td>\n",
              "      <td>Ovais Khan</td>\n",
              "      <td>Prateik</td>\n",
              "      <td>Ishita Raj</td>\n",
              "      <td>Siddhant Kapoor</td>\n",
              "    </tr>\n",
              "    <tr>\n",
              "      <th>4</th>\n",
              "      <td>...And Once Again</td>\n",
              "      <td>-2010.0</td>\n",
              "      <td>105 min</td>\n",
              "      <td>Drama</td>\n",
              "      <td>NaN</td>\n",
              "      <td>NaN</td>\n",
              "      <td>Amol Palekar</td>\n",
              "      <td>Rajat Kapoor</td>\n",
              "      <td>Rituparna Sengupta</td>\n",
              "      <td>Antara Mali</td>\n",
              "    </tr>\n",
              "    <tr>\n",
              "      <th>...</th>\n",
              "      <td>...</td>\n",
              "      <td>...</td>\n",
              "      <td>...</td>\n",
              "      <td>...</td>\n",
              "      <td>...</td>\n",
              "      <td>...</td>\n",
              "      <td>...</td>\n",
              "      <td>...</td>\n",
              "      <td>...</td>\n",
              "      <td>...</td>\n",
              "    </tr>\n",
              "    <tr>\n",
              "      <th>95</th>\n",
              "      <td>417 Miles</td>\n",
              "      <td>-2016.0</td>\n",
              "      <td>75 min</td>\n",
              "      <td>Drama</td>\n",
              "      <td>4.8</td>\n",
              "      <td>9</td>\n",
              "      <td>Mainak Dhar</td>\n",
              "      <td>Marilia Colturato</td>\n",
              "      <td>Kyara Jacob</td>\n",
              "      <td>Kyara Ralella Jacob</td>\n",
              "    </tr>\n",
              "    <tr>\n",
              "      <th>96</th>\n",
              "      <td>42 Kms.</td>\n",
              "      <td>-2009.0</td>\n",
              "      <td>NaN</td>\n",
              "      <td>Drama, Sport</td>\n",
              "      <td>3.9</td>\n",
              "      <td>14</td>\n",
              "      <td>Nisha Chainani</td>\n",
              "      <td>Mandira Bedi</td>\n",
              "      <td>Bikram Saluja</td>\n",
              "      <td>Sammir Dattani</td>\n",
              "    </tr>\n",
              "    <tr>\n",
              "      <th>97</th>\n",
              "      <td>498A-The Wedding Gift</td>\n",
              "      <td>-2012.0</td>\n",
              "      <td>113 min</td>\n",
              "      <td>Drama, Family, Musical</td>\n",
              "      <td>7.8</td>\n",
              "      <td>21</td>\n",
              "      <td>Suhaib Ilyasi</td>\n",
              "      <td>Srishti Gautam</td>\n",
              "      <td>Farida Jalal</td>\n",
              "      <td>Supriya Karnik</td>\n",
              "    </tr>\n",
              "    <tr>\n",
              "      <th>98</th>\n",
              "      <td>4pm on the Court</td>\n",
              "      <td>-2011.0</td>\n",
              "      <td>115 min</td>\n",
              "      <td>Sport</td>\n",
              "      <td>NaN</td>\n",
              "      <td>NaN</td>\n",
              "      <td>Shine Krishna</td>\n",
              "      <td>Ashish Bhatia</td>\n",
              "      <td>Naveen Kaushik</td>\n",
              "      <td>Vinay Sharma</td>\n",
              "    </tr>\n",
              "    <tr>\n",
              "      <th>99</th>\n",
              "      <td>5 Ghantey Mien 5 Crore</td>\n",
              "      <td>-2012.0</td>\n",
              "      <td>111 min</td>\n",
              "      <td>Thriller</td>\n",
              "      <td>5.7</td>\n",
              "      <td>75</td>\n",
              "      <td>Faisal Saif</td>\n",
              "      <td>Nassar Abdulla</td>\n",
              "      <td>Shawar Ali</td>\n",
              "      <td>Rashid Khan</td>\n",
              "    </tr>\n",
              "  </tbody>\n",
              "</table>\n",
              "<p>100 rows × 10 columns</p>\n",
              "</div>\n",
              "    <div class=\"colab-df-buttons\">\n",
              "\n",
              "  <div class=\"colab-df-container\">\n",
              "    <button class=\"colab-df-convert\" onclick=\"convertToInteractive('df-dbd0bc45-a49c-404e-8fa5-2a6ff6a0c1f1')\"\n",
              "            title=\"Convert this dataframe to an interactive table.\"\n",
              "            style=\"display:none;\">\n",
              "\n",
              "  <svg xmlns=\"http://www.w3.org/2000/svg\" height=\"24px\" viewBox=\"0 -960 960 960\">\n",
              "    <path d=\"M120-120v-720h720v720H120Zm60-500h600v-160H180v160Zm220 220h160v-160H400v160Zm0 220h160v-160H400v160ZM180-400h160v-160H180v160Zm440 0h160v-160H620v160ZM180-180h160v-160H180v160Zm440 0h160v-160H620v160Z\"/>\n",
              "  </svg>\n",
              "    </button>\n",
              "\n",
              "  <style>\n",
              "    .colab-df-container {\n",
              "      display:flex;\n",
              "      gap: 12px;\n",
              "    }\n",
              "\n",
              "    .colab-df-convert {\n",
              "      background-color: #E8F0FE;\n",
              "      border: none;\n",
              "      border-radius: 50%;\n",
              "      cursor: pointer;\n",
              "      display: none;\n",
              "      fill: #1967D2;\n",
              "      height: 32px;\n",
              "      padding: 0 0 0 0;\n",
              "      width: 32px;\n",
              "    }\n",
              "\n",
              "    .colab-df-convert:hover {\n",
              "      background-color: #E2EBFA;\n",
              "      box-shadow: 0px 1px 2px rgba(60, 64, 67, 0.3), 0px 1px 3px 1px rgba(60, 64, 67, 0.15);\n",
              "      fill: #174EA6;\n",
              "    }\n",
              "\n",
              "    .colab-df-buttons div {\n",
              "      margin-bottom: 4px;\n",
              "    }\n",
              "\n",
              "    [theme=dark] .colab-df-convert {\n",
              "      background-color: #3B4455;\n",
              "      fill: #D2E3FC;\n",
              "    }\n",
              "\n",
              "    [theme=dark] .colab-df-convert:hover {\n",
              "      background-color: #434B5C;\n",
              "      box-shadow: 0px 1px 3px 1px rgba(0, 0, 0, 0.15);\n",
              "      filter: drop-shadow(0px 1px 2px rgba(0, 0, 0, 0.3));\n",
              "      fill: #FFFFFF;\n",
              "    }\n",
              "  </style>\n",
              "\n",
              "    <script>\n",
              "      const buttonEl =\n",
              "        document.querySelector('#df-dbd0bc45-a49c-404e-8fa5-2a6ff6a0c1f1 button.colab-df-convert');\n",
              "      buttonEl.style.display =\n",
              "        google.colab.kernel.accessAllowed ? 'block' : 'none';\n",
              "\n",
              "      async function convertToInteractive(key) {\n",
              "        const element = document.querySelector('#df-dbd0bc45-a49c-404e-8fa5-2a6ff6a0c1f1');\n",
              "        const dataTable =\n",
              "          await google.colab.kernel.invokeFunction('convertToInteractive',\n",
              "                                                    [key], {});\n",
              "        if (!dataTable) return;\n",
              "\n",
              "        const docLinkHtml = 'Like what you see? Visit the ' +\n",
              "          '<a target=\"_blank\" href=https://colab.research.google.com/notebooks/data_table.ipynb>data table notebook</a>'\n",
              "          + ' to learn more about interactive tables.';\n",
              "        element.innerHTML = '';\n",
              "        dataTable['output_type'] = 'display_data';\n",
              "        await google.colab.output.renderOutput(dataTable, element);\n",
              "        const docLink = document.createElement('div');\n",
              "        docLink.innerHTML = docLinkHtml;\n",
              "        element.appendChild(docLink);\n",
              "      }\n",
              "    </script>\n",
              "  </div>\n",
              "\n",
              "\n",
              "<div id=\"df-fc52a9d9-72e5-49fc-b47a-a129491d80b1\">\n",
              "  <button class=\"colab-df-quickchart\" onclick=\"quickchart('df-fc52a9d9-72e5-49fc-b47a-a129491d80b1')\"\n",
              "            title=\"Suggest charts\"\n",
              "            style=\"display:none;\">\n",
              "\n",
              "<svg xmlns=\"http://www.w3.org/2000/svg\" height=\"24px\"viewBox=\"0 0 24 24\"\n",
              "     width=\"24px\">\n",
              "    <g>\n",
              "        <path d=\"M19 3H5c-1.1 0-2 .9-2 2v14c0 1.1.9 2 2 2h14c1.1 0 2-.9 2-2V5c0-1.1-.9-2-2-2zM9 17H7v-7h2v7zm4 0h-2V7h2v10zm4 0h-2v-4h2v4z\"/>\n",
              "    </g>\n",
              "</svg>\n",
              "  </button>\n",
              "\n",
              "<style>\n",
              "  .colab-df-quickchart {\n",
              "      --bg-color: #E8F0FE;\n",
              "      --fill-color: #1967D2;\n",
              "      --hover-bg-color: #E2EBFA;\n",
              "      --hover-fill-color: #174EA6;\n",
              "      --disabled-fill-color: #AAA;\n",
              "      --disabled-bg-color: #DDD;\n",
              "  }\n",
              "\n",
              "  [theme=dark] .colab-df-quickchart {\n",
              "      --bg-color: #3B4455;\n",
              "      --fill-color: #D2E3FC;\n",
              "      --hover-bg-color: #434B5C;\n",
              "      --hover-fill-color: #FFFFFF;\n",
              "      --disabled-bg-color: #3B4455;\n",
              "      --disabled-fill-color: #666;\n",
              "  }\n",
              "\n",
              "  .colab-df-quickchart {\n",
              "    background-color: var(--bg-color);\n",
              "    border: none;\n",
              "    border-radius: 50%;\n",
              "    cursor: pointer;\n",
              "    display: none;\n",
              "    fill: var(--fill-color);\n",
              "    height: 32px;\n",
              "    padding: 0;\n",
              "    width: 32px;\n",
              "  }\n",
              "\n",
              "  .colab-df-quickchart:hover {\n",
              "    background-color: var(--hover-bg-color);\n",
              "    box-shadow: 0 1px 2px rgba(60, 64, 67, 0.3), 0 1px 3px 1px rgba(60, 64, 67, 0.15);\n",
              "    fill: var(--button-hover-fill-color);\n",
              "  }\n",
              "\n",
              "  .colab-df-quickchart-complete:disabled,\n",
              "  .colab-df-quickchart-complete:disabled:hover {\n",
              "    background-color: var(--disabled-bg-color);\n",
              "    fill: var(--disabled-fill-color);\n",
              "    box-shadow: none;\n",
              "  }\n",
              "\n",
              "  .colab-df-spinner {\n",
              "    border: 2px solid var(--fill-color);\n",
              "    border-color: transparent;\n",
              "    border-bottom-color: var(--fill-color);\n",
              "    animation:\n",
              "      spin 1s steps(1) infinite;\n",
              "  }\n",
              "\n",
              "  @keyframes spin {\n",
              "    0% {\n",
              "      border-color: transparent;\n",
              "      border-bottom-color: var(--fill-color);\n",
              "      border-left-color: var(--fill-color);\n",
              "    }\n",
              "    20% {\n",
              "      border-color: transparent;\n",
              "      border-left-color: var(--fill-color);\n",
              "      border-top-color: var(--fill-color);\n",
              "    }\n",
              "    30% {\n",
              "      border-color: transparent;\n",
              "      border-left-color: var(--fill-color);\n",
              "      border-top-color: var(--fill-color);\n",
              "      border-right-color: var(--fill-color);\n",
              "    }\n",
              "    40% {\n",
              "      border-color: transparent;\n",
              "      border-right-color: var(--fill-color);\n",
              "      border-top-color: var(--fill-color);\n",
              "    }\n",
              "    60% {\n",
              "      border-color: transparent;\n",
              "      border-right-color: var(--fill-color);\n",
              "    }\n",
              "    80% {\n",
              "      border-color: transparent;\n",
              "      border-right-color: var(--fill-color);\n",
              "      border-bottom-color: var(--fill-color);\n",
              "    }\n",
              "    90% {\n",
              "      border-color: transparent;\n",
              "      border-bottom-color: var(--fill-color);\n",
              "    }\n",
              "  }\n",
              "</style>\n",
              "\n",
              "  <script>\n",
              "    async function quickchart(key) {\n",
              "      const quickchartButtonEl =\n",
              "        document.querySelector('#' + key + ' button');\n",
              "      quickchartButtonEl.disabled = true;  // To prevent multiple clicks.\n",
              "      quickchartButtonEl.classList.add('colab-df-spinner');\n",
              "      try {\n",
              "        const charts = await google.colab.kernel.invokeFunction(\n",
              "            'suggestCharts', [key], {});\n",
              "      } catch (error) {\n",
              "        console.error('Error during call to suggestCharts:', error);\n",
              "      }\n",
              "      quickchartButtonEl.classList.remove('colab-df-spinner');\n",
              "      quickchartButtonEl.classList.add('colab-df-quickchart-complete');\n",
              "    }\n",
              "    (() => {\n",
              "      let quickchartButtonEl =\n",
              "        document.querySelector('#df-fc52a9d9-72e5-49fc-b47a-a129491d80b1 button');\n",
              "      quickchartButtonEl.style.display =\n",
              "        google.colab.kernel.accessAllowed ? 'block' : 'none';\n",
              "    })();\n",
              "  </script>\n",
              "</div>\n",
              "\n",
              "    </div>\n",
              "  </div>\n"
            ],
            "application/vnd.google.colaboratory.intrinsic+json": {
              "type": "dataframe",
              "summary": "{\n  \"name\": \"display(df\",\n  \"rows\": 100,\n  \"fields\": [\n    {\n      \"column\": \"Name\",\n      \"properties\": {\n        \"dtype\": \"string\",\n        \"num_unique_values\": 99,\n        \"samples\": [\n          \"23rd March 1931: Shaheed\",\n          \"1921\",\n          \"42 Kms.\"\n        ],\n        \"semantic_type\": \"\",\n        \"description\": \"\"\n      }\n    },\n    {\n      \"column\": \"Year\",\n      \"properties\": {\n        \"dtype\": \"number\",\n        \"std\": 17.660530658816715,\n        \"min\": -2021.0,\n        \"max\": -1946.0,\n        \"num_unique_values\": 36,\n        \"samples\": [\n          -2011.0,\n          -1987.0,\n          -1998.0\n        ],\n        \"semantic_type\": \"\",\n        \"description\": \"\"\n      }\n    },\n    {\n      \"column\": \"Duration\",\n      \"properties\": {\n        \"dtype\": \"string\",\n        \"num_unique_values\": 50,\n        \"samples\": [\n          \"102 min\",\n          \"114 min\",\n          \"80 min\"\n        ],\n        \"semantic_type\": \"\",\n        \"description\": \"\"\n      }\n    },\n    {\n      \"column\": \"Genre\",\n      \"properties\": {\n        \"dtype\": \"category\",\n        \"num_unique_values\": 49,\n        \"samples\": [\n          \"Comedy, Drama, Fantasy\",\n          \"Crime, Drama, Thriller\",\n          \"Drama, Sport\"\n        ],\n        \"semantic_type\": \"\",\n        \"description\": \"\"\n      }\n    },\n    {\n      \"column\": \"Rating\",\n      \"properties\": {\n        \"dtype\": \"number\",\n        \"std\": 1.3124109627747202,\n        \"min\": 3.1,\n        \"max\": 8.4,\n        \"num_unique_values\": 41,\n        \"samples\": [\n          6.8,\n          7.3,\n          6.5\n        ],\n        \"semantic_type\": \"\",\n        \"description\": \"\"\n      }\n    },\n    {\n      \"column\": \"Votes\",\n      \"properties\": {\n        \"dtype\": \"string\",\n        \"num_unique_values\": 61,\n        \"samples\": [\n          \"8\",\n          \"11\",\n          \"3,57,889\"\n        ],\n        \"semantic_type\": \"\",\n        \"description\": \"\"\n      }\n    },\n    {\n      \"column\": \"Director\",\n      \"properties\": {\n        \"dtype\": \"string\",\n        \"num_unique_values\": 96,\n        \"samples\": [\n          \"Suryaprakash Lakkoju\",\n          \"Ravi Sinha\",\n          \"Devang Dholakia\"\n        ],\n        \"semantic_type\": \"\",\n        \"description\": \"\"\n      }\n    },\n    {\n      \"column\": \"Actor 1\",\n      \"properties\": {\n        \"dtype\": \"string\",\n        \"num_unique_values\": 90,\n        \"samples\": [\n          \"Abuzar Akhtar\",\n          \"Mast Ali\",\n          \"Nachiket Patwardhan\"\n        ],\n        \"semantic_type\": \"\",\n        \"description\": \"\"\n      }\n    },\n    {\n      \"column\": \"Actor 2\",\n      \"properties\": {\n        \"dtype\": \"string\",\n        \"num_unique_values\": 88,\n        \"samples\": [\n          \"Shashank Arora\",\n          \"Birbal\",\n          \"Kriti Kharbanda\"\n        ],\n        \"semantic_type\": \"\",\n        \"description\": \"\"\n      }\n    },\n    {\n      \"column\": \"Actor 3\",\n      \"properties\": {\n        \"dtype\": \"string\",\n        \"num_unique_values\": 90,\n        \"samples\": [\n          \"Madhuri Bhatia\",\n          \"Raj Singh Verma\",\n          \"Rajit Kapoor\"\n        ],\n        \"semantic_type\": \"\",\n        \"description\": \"\"\n      }\n    }\n  ]\n}"
            }
          },
          "metadata": {}
        }
      ]
    },
    {
      "cell_type": "code",
      "source": [
        "from sklearn.model_selection import train_test_split\n",
        "from sklearn.preprocessing import OneHotEncoder, StandardScaler\n",
        "from sklearn.compose import ColumnTransformer\n",
        "from sklearn.pipeline import Pipeline\n",
        "from sklearn.ensemble import RandomForestRegressor\n",
        "from sklearn.metrics import mean_squared_error\n",
        "\n",
        "\n"
      ],
      "metadata": {
        "id": "jD3dxfI9klI7"
      },
      "execution_count": null,
      "outputs": []
    },
    {
      "cell_type": "code",
      "source": [
        "# Assume 'rating' is the target column and the rest are features\n",
        "# Replace 'feature1', 'feature2', etc. with actual feature names from your dataset\n",
        "features = ['Genre', 'Director']  # Replace with your actual feature columns\n",
        "target = 'Rating'"
      ],
      "metadata": {
        "id": "qz3VXUnvkmF3"
      },
      "execution_count": null,
      "outputs": []
    },
    {
      "cell_type": "code",
      "source": [
        "# Prepare feature matrix (X) and target vector (y)\n",
        "X = df[features]\n",
        "y = df[target]"
      ],
      "metadata": {
        "id": "phnWwVlLknEY"
      },
      "execution_count": null,
      "outputs": []
    },
    {
      "cell_type": "code",
      "source": [
        "# Split the data into training and testing sets\n",
        "X_train, X_test, y_train, y_test = train_test_split(X, y, test_size=0.2, random_state=42)\n"
      ],
      "metadata": {
        "id": "NbTdoSSQlBFD"
      },
      "execution_count": null,
      "outputs": []
    },
    {
      "cell_type": "code",
      "source": [],
      "metadata": {
        "id": "kXCuEDrnlFDe"
      },
      "execution_count": null,
      "outputs": []
    },
    {
      "cell_type": "code",
      "source": [
        "# Define preprocessing for numerical and categorical features\n",
        "preprocessor = ColumnTransformer(\n",
        "    transformers=[\n",
        "        ('num', StandardScaler(), [col for col in features if X[col].dtype in ['int64', 'float64']]),\n",
        "        ('cat', OneHotEncoder(handle_unknown='ignore'), [col for col in features if X[col].dtype == 'object'])\n",
        "    ])"
      ],
      "metadata": {
        "id": "tkd0fK6llKcP"
      },
      "execution_count": null,
      "outputs": []
    },
    {
      "cell_type": "code",
      "source": [],
      "metadata": {
        "id": "TjLbqmQNlMBT"
      },
      "execution_count": null,
      "outputs": []
    },
    {
      "cell_type": "code",
      "source": [
        "# Create and train the model pipeline\n",
        "pipeline = Pipeline(steps=[\n",
        "    ('preprocessor', preprocessor),\n",
        "    ('regressor', RandomForestRegressor(n_estimators=100, random_state=42))\n",
        "])\n"
      ],
      "metadata": {
        "id": "dSzldGkvlMnD"
      },
      "execution_count": null,
      "outputs": []
    },
    {
      "cell_type": "code",
      "source": [
        "%load_ext autoreload\n",
        "%autoreload 2\n",
        "!pip install plotly"
      ],
      "metadata": {
        "colab": {
          "base_uri": "https://localhost:8080/"
        },
        "id": "2PNaXCV8e34U",
        "outputId": "0c2fe837-d825-4969-f380-9c299a28b24c"
      },
      "execution_count": null,
      "outputs": [
        {
          "output_type": "stream",
          "name": "stdout",
          "text": [
            "Requirement already satisfied: plotly in /usr/local/lib/python3.10/dist-packages (5.15.0)\n",
            "Requirement already satisfied: tenacity>=6.2.0 in /usr/local/lib/python3.10/dist-packages (from plotly) (9.0.0)\n",
            "Requirement already satisfied: packaging in /usr/local/lib/python3.10/dist-packages (from plotly) (24.1)\n"
          ]
        }
      ]
    },
    {
      "cell_type": "code",
      "source": [
        "import pandas as pd\n",
        "import chardet\n",
        "from sklearn.model_selection import train_test_split\n",
        "from sklearn.preprocessing import OneHotEncoder, StandardScaler\n",
        "from sklearn.compose import ColumnTransformer\n",
        "from sklearn.pipeline import Pipeline\n",
        "from sklearn.ensemble import RandomForestRegressor\n",
        "from sklearn.metrics import mean_squared_error\n",
        "\n",
        "# Define the file path\n",
        "file_path = '/content/movies.csv'\n",
        "\n",
        "# Detect the encoding of the file\n",
        "with open(file_path, 'rb') as f:\n",
        "    result = chardet.detect(f.read())\n",
        "    encoding = result['encoding']\n",
        "\n",
        "print(f\"Detected encoding: {encoding}\")\n",
        "\n",
        "# Load the dataset with the detected encoding\n",
        "df = pd.read_csv(file_path, encoding=encoding)\n",
        "\n",
        "# Display the first few rows of the dataset\n",
        "print(df.head())\n",
        "\n",
        "# Define features and target\n",
        "features = ['Genre', 'Director']  # Replace with your actual feature columns\n",
        "target = 'Rating'\n",
        "\n",
        "# Prepare feature matrix (X) and target vector (y)\n",
        "X = df[features]\n",
        "y = df[target]\n",
        "\n",
        "# Split the data into training and testing sets\n",
        "X_train, X_test, y_train, y_test = train_test_split(X, y, test_size=0.2, random_state=42)\n",
        "\n",
        "# Define preprocessing for numerical and categorical features\n",
        "preprocessor = ColumnTransformer(\n",
        "    transformers=[\n",
        "        ('num', StandardScaler(), [col for col in features if X[col].dtype in ['int64', 'float64']]),\n",
        "        ('cat', OneHotEncoder(handle_unknown='ignore'), [col for col in features if X[col].dtype == 'object'])\n",
        "    ])\n",
        "\n",
        "# Create and train the model pipeline\n",
        "pipeline = Pipeline(steps=[\n",
        "    ('preprocessor', preprocessor),\n",
        "    ('regressor', RandomForestRegressor(n_estimators=100, random_state=42))\n",
        "])\n"
      ],
      "metadata": {
        "id": "FX_IaEOOn5GP",
        "colab": {
          "base_uri": "https://localhost:8080/"
        },
        "outputId": "727addaa-78b7-47aa-f43f-e9a690320b83"
      },
      "execution_count": 2,
      "outputs": [
        {
          "output_type": "stream",
          "name": "stdout",
          "text": [
            "Detected encoding: ISO-8859-1\n",
            "                                 Name    Year Duration            Genre  \\\n",
            "0                                         NaN      NaN            Drama   \n",
            "1  #Gadhvi (He thought he was Gandhi) -2019.0  109 min            Drama   \n",
            "2                         #Homecoming -2021.0   90 min   Drama, Musical   \n",
            "3                             #Yaaram -2019.0  110 min  Comedy, Romance   \n",
            "4                   ...And Once Again -2010.0  105 min            Drama   \n",
            "\n",
            "   Rating Votes            Director       Actor 1             Actor 2  \\\n",
            "0     NaN   NaN       J.S. Randhawa      Manmauji              Birbal   \n",
            "1     7.0     8       Gaurav Bakshi  Rasika Dugal      Vivek Ghamande   \n",
            "2     NaN   NaN  Soumyajit Majumdar  Sayani Gupta   Plabita Borthakur   \n",
            "3     4.4    35          Ovais Khan       Prateik          Ishita Raj   \n",
            "4     NaN   NaN        Amol Palekar  Rajat Kapoor  Rituparna Sengupta   \n",
            "\n",
            "           Actor 3  \n",
            "0  Rajendra Bhatia  \n",
            "1    Arvind Jangid  \n",
            "2       Roy Angana  \n",
            "3  Siddhant Kapoor  \n",
            "4      Antara Mali  \n"
          ]
        }
      ]
    },
    {
      "cell_type": "code",
      "source": [
        "import pandas as pd\n",
        "import chardet\n",
        "import matplotlib.pyplot as plt\n",
        "import seaborn as sns\n",
        "\n",
        "# Define the file path\n",
        "file_path = '/content/movies.csv'\n",
        "\n",
        "# Detect the encoding of the file\n",
        "with open(file_path, 'rb') as f:\n",
        "    result = chardet.detect(f.read())\n",
        "    encoding = result['encoding']\n",
        "\n",
        "print(f\"Detected encoding: {encoding}\")\n",
        "\n",
        "# Load the dataset with the detected encoding\n",
        "df = pd.read_csv(file_path, encoding=encoding)\n",
        "\n",
        "# Display the first few rows of the dataset\n",
        "print(df.head())\n",
        "\n",
        "# Assuming 'rating' is the column for movie ratings\n",
        "rating_column = 'rating'  # Replace with the actual column name for ratings\n",
        "\n",
        "# Check if the column exists\n",
        "if rating_column in df.columns:\n",
        "    # Plot distribution of movie ratings\n",
        "    plt.figure(figsize=(10, 6))\n",
        "    sns.histplot(df[rating_column], bins=30, kde=True, color='blue')\n",
        "    plt.title('Distribution of Movie Ratings')\n",
        "    plt.xlabel('Rating')\n",
        "    plt.ylabel('Frequency')\n",
        "    plt.show()\n",
        "else:\n",
        "    print(f\"Column '{rating_column}' not found in the dataset.\")\n"
      ],
      "metadata": {
        "id": "htgDjLNhoIAm",
        "colab": {
          "base_uri": "https://localhost:8080/"
        },
        "outputId": "933c3868-17cb-4a7a-d271-4d6f941b283b"
      },
      "execution_count": 6,
      "outputs": [
        {
          "output_type": "stream",
          "name": "stdout",
          "text": [
            "Detected encoding: ISO-8859-1\n",
            "                                 Name    Year Duration            Genre  \\\n",
            "0                                         NaN      NaN            Drama   \n",
            "1  #Gadhvi (He thought he was Gandhi) -2019.0  109 min            Drama   \n",
            "2                         #Homecoming -2021.0   90 min   Drama, Musical   \n",
            "3                             #Yaaram -2019.0  110 min  Comedy, Romance   \n",
            "4                   ...And Once Again -2010.0  105 min            Drama   \n",
            "\n",
            "   Rating Votes            Director       Actor 1             Actor 2  \\\n",
            "0     NaN   NaN       J.S. Randhawa      Manmauji              Birbal   \n",
            "1     7.0     8       Gaurav Bakshi  Rasika Dugal      Vivek Ghamande   \n",
            "2     NaN   NaN  Soumyajit Majumdar  Sayani Gupta   Plabita Borthakur   \n",
            "3     4.4    35          Ovais Khan       Prateik          Ishita Raj   \n",
            "4     NaN   NaN        Amol Palekar  Rajat Kapoor  Rituparna Sengupta   \n",
            "\n",
            "           Actor 3  \n",
            "0  Rajendra Bhatia  \n",
            "1    Arvind Jangid  \n",
            "2       Roy Angana  \n",
            "3  Siddhant Kapoor  \n",
            "4      Antara Mali  \n",
            "Column 'rating' not found in the dataset.\n"
          ]
        }
      ]
    },
    {
      "cell_type": "code",
      "source": [
        " import io\n",
        "import os\n",
        "import matplotlib.pyplot as plt\n",
        "import numpy as np\n",
        "import pandas as pd\n",
        "\n",
        "import json #converting JSON to lists for dataframe\n",
        "import warnings\n",
        "warnings.filterwarnings('ignore')\n",
        "import base64\n",
        "import codecs\n",
        "from IPython.display import HTML\n",
        "\n",
        "%matplotlib inline"
      ],
      "metadata": {
        "id": "SHbBs1kCgoA1"
      },
      "execution_count": 7,
      "outputs": []
    },
    {
      "cell_type": "code",
      "source": [
        "# Select one row and one column to compare\n",
        "row_index = 35  # Replace with the index of the row you want to compare\n",
        "column_name = 'Actor 2'  # Replace with the name of the column you want to compare\n",
        "\n",
        "# Get the row and column\n",
        "row = df.iloc[row_index]\n",
        "column = df[column_name]\n",
        "\n",
        "# Ensure both row and column are compared on common indices\n",
        "common_indices = row.index.intersection(column.index)\n",
        "\n",
        "# Filter to common indices\n",
        "row = row[common_indices]\n",
        "column = column[common_indices]\n",
        "\n",
        "# Create a DataFrame for comparison\n",
        "comparison_df = pd.DataFrame({\n",
        "    'Row': row,\n",
        "    'Column': column\n",
        "})\n",
        "\n",
        "# Plot the comparison\n",
        "plt.figure(figsize=(7, 4))\n",
        "\n",
        "# Plot row data\n",
        "plt.plot(comparison_df.index, comparison_df['Row'], marker='o', linestyle='-', label='Row Data')\n",
        "\n",
        "# Plot column data\n",
        "plt.plot(comparison_df.index, comparison_df['Column'], marker='x', linestyle='--', label='Column Data')\n",
        "\n",
        "plt.title(f'Comparison of Row {row_index} and Column \"{column_name}\"')\n",
        "plt.xlabel('Index')\n",
        "plt.ylabel('Values')\n",
        "plt.legend()\n",
        "plt.xticks(rotation=90)  # Rotate x-axis labels for better readability\n",
        "plt.grid(True)\n",
        "plt.show()"
      ],
      "metadata": {
        "id": "-zfWHDO6CbCq",
        "colab": {
          "base_uri": "https://localhost:8080/",
          "height": 438
        },
        "outputId": "2efd770e-d0f8-4d30-bda3-221c6ec1e3c6"
      },
      "execution_count": 30,
      "outputs": [
        {
          "output_type": "display_data",
          "data": {
            "text/plain": [
              "<Figure size 700x400 with 1 Axes>"
            ],
            "image/png": "[encoded data removed]"
          },
          "metadata": {}
        }
      ]
    },
    {
      "cell_type": "code",
      "source": [
        "def to_list(df, feature_names_list): #df: dataframe, feature_names: list of all features to convert from JSON to list\n",
        "    for feature_name in feature_names_list:\n",
        "        print(\"Current:\", feature_name)\n",
        "        #STEP 1: convert JSON format to a list\n",
        "        df[feature_name]=df[feature_name].apply(json.loads)\n",
        "        #Two cases here: Feature is crew, or feature is not crew\n",
        "        if feature_name == 'crew': #if crew, due to large size, want to limit to most influential members: director, editor, cinematographer, screenplay, and composer\n",
        "            for index,i in zip(df.index,df[feature_name]):\n",
        "                feature_list_1=[]\n",
        "                limit = 10\n",
        "                if len(i) < 10:\n",
        "                    limit = len(i)\n",
        "                for j in range(limit): #top 10 crew members\n",
        "                    feature_list_1.append((i[j]['name'])) # the key 'name' contains the name of the a sub-feature (ex: sci-fi in genres)\n",
        "                df.loc[index,feature_name]= str(feature_list_1)\n",
        "\n",
        "        elif feature_name == 'cast': #Another special case. Only want top 5 cast members (most infulential)\n",
        "            for index,i in zip(df.index,df[feature_name]):\n",
        "                feature_list_1=[]\n",
        "                if len(i) > 5:\n",
        "                    limit = 5\n",
        "                else:\n",
        "                    limit = len(i)\n",
        "                for j in range(limit): #top 5 (JSON format already has this sorted)\n",
        "                    feature_list_1.append((i[j]['name']))\n",
        "                df.loc[index,feature_name]= str(feature_list_1)\n",
        "        else:\n",
        "            for index,i in zip(df.index,df[feature_name]):\n",
        "                feature_list_1=[]\n",
        "                for j in range(len(i)):\n",
        "                    feature_list_1.append((i[j]['name']))\n",
        "                df.loc[index,feature_name]= str(feature_list_1)\n",
        "\n",
        "        #STEP 2: clean up and transform into unsorted list\n",
        "        df[feature_name] = df[feature_name].str.strip('[]').str.replace(' ','').str.replace(\"'\",'')\n",
        "        df[feature_name] = df[feature_name].str.split(',')\n",
        "\n",
        "        #STEP 3: Sort list elements\n",
        "        for i,j in zip(df[feature_name],df.index):\n",
        "            features_list_2=i\n",
        "            features_list_2.sort()\n",
        "            df.loc[j,feature_name]=str(features_list_2)\n",
        "        df[feature_name]=df[feature_name].str.strip('[]').str.replace(' ','').str.replace(\"'\",'')\n",
        "        lst = df[feature_name].str.split(',')\n",
        "        if len(lst) == 0:\n",
        "            df[feature_name] = None\n",
        "        else:\n",
        "            df[feature_name]= df[feature_name].str.split(',')\n",
        "    return df"
      ],
      "metadata": {
        "id": "7NcxfJQbhtTE"
      },
      "execution_count": null,
      "outputs": []
    }
  ]
}